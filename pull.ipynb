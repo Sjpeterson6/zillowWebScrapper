{
 "cells": [
  {
   "cell_type": "code",
   "execution_count": 1,
   "id": "narrow-jungle",
   "metadata": {},
   "outputs": [],
   "source": [
    "import os\n",
    "import requests"
   ]
  },
  {
   "cell_type": "code",
   "execution_count": 2,
   "id": "straight-aurora",
   "metadata": {},
   "outputs": [],
   "source": [
    "req_headers = {\n",
    "    'accept': 'text/html,application/xhtml+xml,application/xml;q=0.9,image/webp,image/apng,*/*;q=0.8',\n",
    "    'accept-encoding': 'gzip, deflate, br',\n",
    "    'accept-language': 'en-US,en;q=0.8',\n",
    "    'upgrade-insecure-requests': '1',\n",
    "    'user-agent': 'Mozilla/5.0 (Windows NT 10.0; Win64; x64) AppleWebKit/537.36 (KHTML, like Gecko) Chrome/61.0.3163.100 Safari/537.36'\n",
    "}\n",
    "with requests.Session() as s:\n",
    "   city = 'madison/'\n",
    "   url = 'https://www.zillow.com/homes/for_sale/'+city    \n",
    "   r = s.get(url, headers=req_headers)"
   ]
  },
  {
   "cell_type": "code",
   "execution_count": 3,
   "id": "hairy-details",
   "metadata": {},
   "outputs": [
    {
     "name": "stdout",
     "output_type": "stream",
     "text": [
      "https://www.zillow.com/homes/for_sale/madison/2_p/\n",
      "https://www.zillow.com/homes/for_sale/madison/3_p/\n",
      "https://www.zillow.com/homes/for_sale/madison/4_p/\n",
      "https://www.zillow.com/homes/for_sale/madison/5_p/\n",
      "https://www.zillow.com/homes/for_sale/madison/6_p/\n",
      "https://www.zillow.com/homes/for_sale/madison/7_p/\n",
      "https://www.zillow.com/homes/for_sale/madison/8_p/\n",
      "https://www.zillow.com/homes/for_sale/madison/9_p/\n",
      "https://www.zillow.com/homes/for_sale/madison/10_p/\n",
      "https://www.zillow.com/homes/for_sale/madison/11_p/\n"
     ]
    }
   ],
   "source": [
    "for i in range(10):\n",
    "    city = 'madison/' #*****change this city to what you want*****\n",
    "    url = 'https://www.zillow.com/homes/for_sale/'+city+str(i+2)+'_p/'  \n",
    "    print(url)\n",
    "    r = requests.get(url, headers=req_headers)\n",
    "    r.raise_for_status()\n",
    "    with open(os.path.join('html', str(i+2)+'.html'), 'w') as f:\n",
    "            f.write(r.text)"
   ]
  },
  {
   "cell_type": "code",
   "execution_count": null,
   "id": "bottom-struggle",
   "metadata": {},
   "outputs": [],
   "source": []
  }
 ],
 "metadata": {
  "kernelspec": {
   "display_name": "Python 3 (ipykernel)",
   "language": "python",
   "name": "python3"
  },
  "language_info": {
   "codemirror_mode": {
    "name": "ipython",
    "version": 3
   },
   "file_extension": ".py",
   "mimetype": "text/x-python",
   "name": "python",
   "nbconvert_exporter": "python",
   "pygments_lexer": "ipython3",
   "version": "3.8.12"
  }
 },
 "nbformat": 4,
 "nbformat_minor": 5
}
